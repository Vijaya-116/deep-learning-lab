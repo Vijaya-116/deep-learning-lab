{
  "nbformat": 4,
  "nbformat_minor": 0,
  "metadata": {
    "colab": {
      "provenance": [],
      "authorship_tag": "ABX9TyO4RG/q7p2yZCaQQaw5KGeB",
      "include_colab_link": true
    },
    "kernelspec": {
      "name": "python3",
      "display_name": "Python 3"
    },
    "language_info": {
      "name": "python"
    }
  },
  "cells": [
    {
      "cell_type": "markdown",
      "metadata": {
        "id": "view-in-github",
        "colab_type": "text"
      },
      "source": [
        "<a href=\"https://colab.research.google.com/github/Vijaya-116/deep-learning-lab/blob/main/LAB1.ipynb\" target=\"_parent\"><img src=\"https://colab.research.google.com/assets/colab-badge.svg\" alt=\"Open In Colab\"/></a>"
      ]
    },
    {
      "cell_type": "markdown",
      "source": [
        "                                 LAB1\n",
        "\n"
      ],
      "metadata": {
        "id": "35uu_6-hOEaj"
      }
    },
    {
      "cell_type": "code",
      "source": [
        "#addition of matrix\n",
        "n=int(input(\"\"))\n",
        "a=[]\n",
        "b=[]\n",
        "res=[]\n",
        "print(\"Enter matrix a values\")\n",
        "for i in range(n):\n",
        "  row=list(map(int,input().strip().split()))\n",
        "  a.append(row)\n",
        "print(\"Enter matrix b value\")\n",
        "for i in range(n):\n",
        "  row=list(map(int,input().strip().split()))\n",
        "  b.append(row)\n",
        "res=[[0]*n for _ in range(n)]\n",
        "for i in range(n):\n",
        "  for j in range(n):\n",
        "    res[i][j]=a[i][j]+b[i][j]\n",
        "print(\"result matrix\")\n",
        "for r in res:\n",
        "  print(r)"
      ],
      "metadata": {
        "colab": {
          "base_uri": "https://localhost:8080/"
        },
        "id": "9kxL8S_3L0wT",
        "outputId": "1855f3b2-8f2a-4e65-8e17-06f0c09fd865"
      },
      "execution_count": 7,
      "outputs": [
        {
          "output_type": "stream",
          "name": "stdout",
          "text": [
            "2\n",
            "Enter matrix a values\n",
            " 1 2\n",
            "3 2\n",
            "Enter matrix b value\n",
            "4 1 \n",
            "3 5\n",
            "result matrix\n",
            "[5, 3]\n",
            "[6, 7]\n"
          ]
        }
      ]
    },
    {
      "cell_type": "code",
      "source": [
        "#subtraction of matrix\n",
        "n=int(input(\"Enter number\"))\n",
        "a=[]\n",
        "b=[]\n",
        "res=[]\n",
        "print(\"Enter matrix a values\")\n",
        "for i in range(n):\n",
        "  row=list(map(int,input().strip().split()))\n",
        "  a.append(row)\n",
        "print(\"Enter matrix b values\")\n",
        "for i in range(n):\n",
        "  row=list(map(int,input().strip().split()))\n",
        "  b.append(row)\n",
        "res=[[0]*n for _ in range(n)]\n",
        "for i in range(n):\n",
        "  for j in range(n):\n",
        "    res[i][j]=a[i][j]-b[i][j]\n",
        "print(\"Result matrix\")\n",
        "for r in res:\n",
        "  print(r)"
      ],
      "metadata": {
        "colab": {
          "base_uri": "https://localhost:8080/"
        },
        "id": "qkUvNZSgMA4r",
        "outputId": "01d36cda-3a0a-41cb-8dfa-a99ff8f3f19a"
      },
      "execution_count": 8,
      "outputs": [
        {
          "output_type": "stream",
          "name": "stdout",
          "text": [
            "Enter number2\n",
            "Enter matrix a values\n",
            " 4 3\n",
            "7 6\n",
            "Enter matrix b values\n",
            "8 7\n",
            "9 8\n",
            "Result matrix\n",
            "[-4, -4]\n",
            "[-2, -2]\n"
          ]
        }
      ]
    },
    {
      "cell_type": "code",
      "source": [
        "# matrix multiplication\n",
        "n=int(input(\"Enter value\"))\n",
        "a=[]\n",
        "b=[]\n",
        "res=[]\n",
        "print(\"Enter matrix a\")\n",
        "for i in range(n):\n",
        "  row=list(map(int,input().strip().split()))\n",
        "  a.append(row)\n",
        "print(\"Enter matrix b\")\n",
        "for i in range(n):\n",
        "  row=list(map(int,input().strip().split()))\n",
        "  b.append(row)\n",
        "res=[[0]*n for _ in range(n)]\n",
        "for i in range(n):\n",
        "  for j in range(n):\n",
        "    res[i][j]=a[i][j]*b[i][j]\n",
        "for r in res:\n",
        "  print(r)"
      ],
      "metadata": {
        "colab": {
          "base_uri": "https://localhost:8080/"
        },
        "id": "L_gf0leZMMVq",
        "outputId": "e8ea2433-a81e-4a09-995e-0d5a143019f0"
      },
      "execution_count": 9,
      "outputs": [
        {
          "output_type": "stream",
          "name": "stdout",
          "text": [
            "Enter value2\n",
            "Enter matrix a\n",
            "5 6 \n",
            " 2 1\n",
            "Enter matrix b\n",
            "1 2 \n",
            "3 2\n",
            "[5, 12]\n",
            "[6, 2]\n"
          ]
        }
      ]
    },
    {
      "cell_type": "code",
      "source": [
        "#division of a matrix\n",
        "n=int(input(\"Enter value\"))\n",
        "a=[]\n",
        "b=[]\n",
        "res=[]\n",
        "print(\"Enter matrix a\")\n",
        "for i in range(n):\n",
        "  row=list(map(int,input().strip().split()))\n",
        "  a.append(row)\n",
        "print(\"Enter matrix b\")\n",
        "for i in range(n):\n",
        "  row=list(map(int,input().strip().split()))\n",
        "  b.append(row)\n",
        "res=[[0]*n for i in range(n)]\n",
        "print(\"Division\")\n",
        "for i in range(n):\n",
        "  for j in range(n):\n",
        "    res[i][j]=a[i][j]/b[i][j]\n",
        "for r in res:\n",
        "  print(r)"
      ],
      "metadata": {
        "colab": {
          "base_uri": "https://localhost:8080/"
        },
        "id": "6nSZzRR8MXML",
        "outputId": "900b26c6-5b21-432f-bf45-5e8131c10fbe"
      },
      "execution_count": 10,
      "outputs": [
        {
          "output_type": "stream",
          "name": "stdout",
          "text": [
            "Enter value2 \n",
            "Enter matrix a\n",
            "1 1 \n",
            "2 2\n",
            "Enter matrix b\n",
            "3 3 \n",
            "4 4 \n",
            "Division\n",
            "[0.3333333333333333, 0.3333333333333333]\n",
            "[0.5, 0.5]\n"
          ]
        }
      ]
    },
    {
      "cell_type": "code",
      "source": [
        "#transpose of a matrix\n",
        "n=int(input(\"Enter value\"))\n",
        "a=[]\n",
        "res=[]\n",
        "print(\"Enter matrix a\")\n",
        "for i in range(n):\n",
        "  row=list(map(int,input().strip().split()))\n",
        "  a.append(row)\n",
        "res=[[0]*n for i in range(n)]\n",
        "for i in range(n):\n",
        "  for j in range(n):\n",
        "    res[i][j]=a[j][i]\n",
        "for r in res:\n",
        "  print(r)"
      ],
      "metadata": {
        "colab": {
          "base_uri": "https://localhost:8080/"
        },
        "id": "AA_MvpAUMm-c",
        "outputId": "c4fc2274-b517-42a3-eaef-740c32d3c63d"
      },
      "execution_count": 12,
      "outputs": [
        {
          "output_type": "stream",
          "name": "stdout",
          "text": [
            "Enter value2\n",
            "Enter matrix a\n",
            " 1 2\n",
            "3 1\n",
            "[1, 3]\n",
            "[2, 1]\n"
          ]
        }
      ]
    },
    {
      "cell_type": "code",
      "source": [],
      "metadata": {
        "id": "sXC_qj0QOy2y"
      },
      "execution_count": null,
      "outputs": []
    }
  ]
}