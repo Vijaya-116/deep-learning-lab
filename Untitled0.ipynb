{
  "nbformat": 4,
  "nbformat_minor": 0,
  "metadata": {
    "colab": {
      "provenance": [],
      "authorship_tag": "ABX9TyMXWpKBJENCV9CQlT8SkHsc",
      "include_colab_link": true
    },
    "kernelspec": {
      "name": "python3",
      "display_name": "Python 3"
    },
    "language_info": {
      "name": "python"
    }
  },
  "cells": [
    {
      "cell_type": "markdown",
      "metadata": {
        "id": "view-in-github",
        "colab_type": "text"
      },
      "source": [
        "<a href=\"https://colab.research.google.com/github/Vijaya-116/deep-learning-lab/blob/main/Untitled0.ipynb\" target=\"_parent\"><img src=\"https://colab.research.google.com/assets/colab-badge.svg\" alt=\"Open In Colab\"/></a>"
      ]
    },
    {
      "cell_type": "code",
      "execution_count": 7,
      "metadata": {
        "colab": {
          "base_uri": "https://localhost:8080/"
        },
        "id": "AFOiXOnQN4yl",
        "outputId": "a6a092f5-c6ba-4b65-e2c6-7650c30af0b0"
      },
      "outputs": [
        {
          "output_type": "stream",
          "name": "stdout",
          "text": [
            "2\n",
            "Enter matrix a values\n",
            "1 2\n",
            "2 1\n",
            "Enter matrix b value\n",
            "3 1\n",
            "1 3\n",
            "result matrix\n",
            "[4, 3]\n",
            "[3, 4]\n"
          ]
        }
      ],
      "source": [
        "#addition of matrix\n",
        "n=int(input(\"\"))\n",
        "a=[]\n",
        "b=[]\n",
        "res=[]\n",
        "print(\"Enter matrix a values\")\n",
        "for i in range(n):\n",
        "  row=list(map(int,input().strip().split()))\n",
        "  a.append(row)\n",
        "print(\"Enter matrix b value\")\n",
        "for i in range(n):\n",
        "  row=list(map(int,input().strip().split()))\n",
        "  b.append(row)\n",
        "res=[[0]*n for _ in range(n)]\n",
        "for i in range(n):\n",
        "  for j in range(n):\n",
        "    res[i][j]=a[i][j]+b[i][j]\n",
        "print(\"result matrix\")\n",
        "for r in res:\n",
        "  print(r)\n"
      ]
    },
    {
      "cell_type": "code",
      "source": [
        "#subtraction of matrix\n",
        "n=int(input(\"Enter number\"))\n",
        "a=[]\n",
        "b=[]\n",
        "res=[]\n",
        "print(\"Enter matrix a values\")\n",
        "for i in range(n):\n",
        "  row=list(map(int,input().strip().split()))\n",
        "  a.append(row)\n",
        "print(\"Enter matrix b values\")\n",
        "for i in range(n):\n",
        "  row=list(map(int,input().strip().split()))\n",
        "  b.append(row)\n",
        "res=[[0]*n for _ in range(n)]\n",
        "for i in range(n):\n",
        "  for j in range(n):\n",
        "    res[i][j]=a[i][j]-b[i][j]\n",
        "print(\"Result matrix\")\n",
        "for r in res:\n",
        "  print(r)"
      ],
      "metadata": {
        "colab": {
          "base_uri": "https://localhost:8080/"
        },
        "id": "N9K5SIleWRqC",
        "outputId": "29565207-9448-4118-dd55-8774171c4430"
      },
      "execution_count": 8,
      "outputs": [
        {
          "output_type": "stream",
          "name": "stdout",
          "text": [
            "Enter number2\n",
            "Enter matrix a values\n",
            "3 3 \n",
            "4 4\n",
            "Enter matrix b values\n",
            "5 5 \n",
            "6 6\n",
            "Result matrix\n",
            "[-2, -2]\n",
            "[-2, -2]\n"
          ]
        }
      ]
    },
    {
      "cell_type": "code",
      "source": [
        "# matrix multiplication\n",
        "n=int(input(\"Enter value\"))\n",
        "a=[]\n",
        "b=[]\n",
        "res=[]\n",
        "print(\"Enter matrix a\")\n",
        "for i in range(n):\n",
        "  row=list(map(int,input().strip().split()))\n",
        "  a.append(row)\n",
        "print(\"Enter matrix b\")\n",
        "for i in range(n):\n",
        "  row=list(map(int,input().strip().split()))\n",
        "  b.append(row)\n",
        "res=[[0]*n for _ in range(n)]\n",
        "for i in range(n):\n",
        "  for j in range(n):\n",
        "    res[i][j]=a[i][j]*b[i][j]\n",
        "for r in res:\n",
        "  print(r)"
      ],
      "metadata": {
        "colab": {
          "base_uri": "https://localhost:8080/"
        },
        "id": "z11faYk8Wsnz",
        "outputId": "44b633bc-1968-4793-e7a7-76544703dfee"
      },
      "execution_count": 11,
      "outputs": [
        {
          "output_type": "stream",
          "name": "stdout",
          "text": [
            "Enter value2\n",
            "Enter matrix a\n",
            "2 2\n",
            "3 3\n",
            "Enter matrix b\n",
            "4 4\n",
            "5 5\n",
            "[8, 8]\n",
            "[15, 15]\n"
          ]
        }
      ]
    },
    {
      "cell_type": "code",
      "source": [
        "#division of a matrix\n",
        "n=int(input(\"Enter value\"))\n",
        "a=[]\n",
        "b=[]\n",
        "res=[]\n",
        "print(\"Enter matrix a\")\n",
        "for i in range(n):\n",
        "  row=list(map(int,input().strip().split()))\n",
        "  a.append(row)\n",
        "print(\"Enter matrix b\")\n",
        "for i in range(n):\n",
        "  row=list(map(int,input().strip().split()))\n",
        "  b.append(row)\n",
        "res=[[0]*n for i in range(n)]\n",
        "print(\"Division\")\n",
        "for i in range(n):\n",
        "  for j in range(n):\n",
        "    res[i][j]=a[i][j]/b[i][j]\n",
        "for r in res:\n",
        "  print(r)"
      ],
      "metadata": {
        "colab": {
          "base_uri": "https://localhost:8080/"
        },
        "id": "8ZOn2x9Ubjgw",
        "outputId": "a6c0b16c-dc4c-44c3-b317-3511340a38f6"
      },
      "execution_count": 13,
      "outputs": [
        {
          "output_type": "stream",
          "name": "stdout",
          "text": [
            "Enter value2\n",
            "Enter matrix a\n",
            "12 12\n",
            "14 14\n",
            "Enter matrix b\n",
            "6 6 \n",
            "7 7 \n",
            "Division\n",
            "[2.0, 2.0]\n",
            "[2.0, 2.0]\n"
          ]
        }
      ]
    },
    {
      "cell_type": "code",
      "source": [
        "#transpose of a matrix\n",
        "n=int(input(\"Enter value\"))\n",
        "a=[]\n",
        "res=[]\n",
        "print(\"Enter matrix a\")\n",
        "for i in range(n):\n",
        "  row=list(map(int,input().strip().split()))\n",
        "  a.append(row)\n",
        "res=[[0]*n for i in range(n)]\n",
        "for i in range(n):\n",
        "  for j in range(n):\n",
        "    res[i][j]=a[j][i]\n",
        "for r in res:\n",
        "  print(r)"
      ],
      "metadata": {
        "colab": {
          "base_uri": "https://localhost:8080/"
        },
        "id": "1phcU7tJW7cv",
        "outputId": "5505dbde-4d6b-4594-e477-c88b4277eb7c"
      },
      "execution_count": 10,
      "outputs": [
        {
          "output_type": "stream",
          "name": "stdout",
          "text": [
            "Enter value2\n",
            "Enter matrix a\n",
            "5 4 \n",
            "6 7\n",
            "[5, 6]\n",
            "[4, 7]\n"
          ]
        }
      ]
    }
  ]
}