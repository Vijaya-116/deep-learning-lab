{
  "nbformat": 4,
  "nbformat_minor": 0,
  "metadata": {
    "colab": {
      "provenance": [],
      "authorship_tag": "ABX9TyOdQdC8C/RyhuKs7P1e3ZN1",
      "include_colab_link": true
    },
    "kernelspec": {
      "name": "python3",
      "display_name": "Python 3"
    },
    "language_info": {
      "name": "python"
    }
  },
  "cells": [
    {
      "cell_type": "markdown",
      "metadata": {
        "id": "view-in-github",
        "colab_type": "text"
      },
      "source": [
        "<a href=\"https://colab.research.google.com/github/Vijaya-116/deep-learning-lab/blob/main/Untitled0.ipynb\" target=\"_parent\"><img src=\"https://colab.research.google.com/assets/colab-badge.svg\" alt=\"Open In Colab\"/></a>"
      ]
    },
    {
      "cell_type": "code",
      "execution_count": 7,
      "metadata": {
        "colab": {
          "base_uri": "https://localhost:8080/"
        },
        "id": "AFOiXOnQN4yl",
        "outputId": "a6a092f5-c6ba-4b65-e2c6-7650c30af0b0"
      },
      "outputs": [
        {
          "output_type": "stream",
          "name": "stdout",
          "text": [
            "2\n",
            "Enter matrix a values\n",
            "1 2\n",
            "2 1\n",
            "Enter matrix b value\n",
            "3 1\n",
            "1 3\n",
            "result matrix\n",
            "[4, 3]\n",
            "[3, 4]\n"
          ]
        }
      ],
      "source": [
        "#addition of matrix\n",
        "n=int(input(\"\"))\n",
        "a=[]\n",
        "b=[]\n",
        "res=[]\n",
        "print(\"Enter matrix a values\")\n",
        "for i in range(n):\n",
        "  row=list(map(int,input().strip().split()))\n",
        "  a.append(row)\n",
        "print(\"Enter matrix b value\")\n",
        "for i in range(n):\n",
        "  row=list(map(int,input().strip().split()))\n",
        "  b.append(row)\n",
        "res=[[0]*n for _ in range(n)]\n",
        "for i in range(n):\n",
        "  for j in range(n):\n",
        "    res[i][j]=a[i][j]+b[i][j]\n",
        "print(\"result matrix\")\n",
        "for r in res:\n",
        "  print(r)\n"
      ]
    }
  ]
}