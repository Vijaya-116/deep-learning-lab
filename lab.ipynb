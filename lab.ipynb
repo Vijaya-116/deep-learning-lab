{
  "nbformat": 4,
  "nbformat_minor": 0,
  "metadata": {
    "colab": {
      "provenance": [],
      "authorship_tag": "ABX9TyP2r4ia1zWono1ozUWB/SGN",
      "include_colab_link": true
    },
    "kernelspec": {
      "name": "python3",
      "display_name": "Python 3"
    },
    "language_info": {
      "name": "python"
    }
  },
  "cells": [
    {
      "cell_type": "markdown",
      "metadata": {
        "id": "view-in-github",
        "colab_type": "text"
      },
      "source": [
        "<a href=\"https://colab.research.google.com/github/Vijaya-116/lab/blob/main/lab.ipynb\" target=\"_parent\"><img src=\"https://colab.research.google.com/assets/colab-badge.svg\" alt=\"Open In Colab\"/></a>"
      ]
    },
    {
      "cell_type": "code",
      "execution_count": 1,
      "metadata": {
        "colab": {
          "base_uri": "https://localhost:8080/"
        },
        "id": "1sYS2miI3m7h",
        "outputId": "cbf75403-58b4-4c0e-d4bf-c4b61dcdddd6"
      },
      "outputs": [
        {
          "output_type": "stream",
          "name": "stdout",
          "text": [
            "Enter the number of rows: 3\n",
            "Enter the number of columns: 3\n",
            "Matrix A:\n",
            "Enter the elements of matrix A:\n",
            "Enter row 1 (space-separated): 1 2 3 \n",
            "Enter row 2 (space-separated): 4 5 6\n",
            "Enter row 3 (space-separated): 6 7 8 \n",
            "Matrix B:\n",
            "Enter the elements of matrix B:\n",
            "Enter row 1 (space-separated): 2 3 4 \n",
            "Enter row 2 (space-separated):  5 6 7\n",
            "Enter row 3 (space-separated): 9 8 7 \n",
            "The resulting matrix after addition is:\n",
            "3 5 7\n",
            "9 11 13\n",
            "15 15 15\n"
          ]
        }
      ],
      "source": [
        "def get_matrix_input(rows, cols, matrix_name):\n",
        "    print(f\"Enter the elements of matrix {matrix_name}:\")\n",
        "    matrix = []\n",
        "    for i in range(rows):\n",
        "        row = list(map(int, input(f\"Enter row {i + 1} (space-separated): \").split()))\n",
        "        if len(row) != cols:\n",
        "            raise ValueError(f\"Row {i + 1} does not have the correct number of columns.\")\n",
        "        matrix.append(row)\n",
        "    return matrix\n",
        "\n",
        "def add_matrices(A, B):\n",
        "    if len(A) != len(B) or len(A[0]) != len(B[0]):\n",
        "        raise ValueError(\"Matrices must have the same dimensions\")\n",
        "    return [[A[i][j] + B[i][j] for j in range(len(A[0]))] for i in range(len(A))]\n",
        "\n",
        "def main():\n",
        "    rows = int(input(\"Enter the number of rows: \"))\n",
        "    cols = int(input(\"Enter the number of columns: \"))\n",
        "    print(\"Matrix A:\")\n",
        "    A = get_matrix_input(rows, cols, 'A')\n",
        "\n",
        "    print(\"Matrix B:\")\n",
        "    B = get_matrix_input(rows, cols, 'B')\n",
        "    C = add_matrices(A, B)\n",
        "    print(\"The resulting matrix after addition is:\")\n",
        "    for row in C:\n",
        "        print(' '.join(map(str, row)))\n",
        "\n",
        "if __name__ == \"__main__\":\n",
        "    main()\n"
      ]
    }
  ]
}